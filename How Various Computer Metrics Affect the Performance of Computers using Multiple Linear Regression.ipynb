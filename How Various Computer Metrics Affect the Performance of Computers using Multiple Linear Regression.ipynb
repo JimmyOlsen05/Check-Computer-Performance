{
  "nbformat": 4,
  "nbformat_minor": 0,
  "metadata": {
    "colab": {
      "provenance": [],
      "authorship_tag": "ABX9TyOOQUAZpJkhq3DSz+6VUnCO",
      "include_colab_link": true
    },
    "kernelspec": {
      "name": "python3",
      "display_name": "Python 3"
    },
    "language_info": {
      "name": "python"
    }
  },
  "cells": [
    {
      "cell_type": "markdown",
      "metadata": {
        "id": "view-in-github",
        "colab_type": "text"
      },
      "source": [
        "<a href=\"https://colab.research.google.com/github/JimmyOlsen05/Check-Computer-Performance/blob/master/How%20Various%20Computer%20Metrics%20Affect%20the%20Performance%20of%20Computers%20using%20Multiple%20Linear%20Regression.ipynb\" target=\"_parent\"><img src=\"https://colab.research.google.com/assets/colab-badge.svg\" alt=\"Open In Colab\"/></a>"
      ]
    },
    {
      "cell_type": "code",
      "execution_count": 82,
      "metadata": {
        "id": "sZqnc2mOjPIp"
      },
      "outputs": [],
      "source": [
        "import pandas as pd\n",
        "from sklearn.inspection import partial_dependence\n",
        "import re\n",
        "import seaborn as sns\n",
        "import matplotlib.pyplot as plt\n",
        "from sklearn.preprocessing import StandardScaler\n",
        "from sklearn.linear_model import LinearRegression\n",
        "from sklearn.model_selection import train_test_split\n",
        "from sklearn.metrics import r2_score"
      ]
    },
    {
      "cell_type": "code",
      "source": [
        "data=pd.read_csv('performance_data.csv')"
      ],
      "metadata": {
        "id": "KEa5-PRQjUML"
      },
      "execution_count": 61,
      "outputs": []
    },
    {
      "cell_type": "code",
      "source": [
        "data.head(2)"
      ],
      "metadata": {
        "id": "8cUR7Nb4jm-L"
      },
      "execution_count": null,
      "outputs": []
    },
    {
      "cell_type": "code",
      "source": [
        "print(data.columns)\n"
      ],
      "metadata": {
        "colab": {
          "base_uri": "https://localhost:8080/"
        },
        "id": "0R3dZxDgu4Uo",
        "outputId": "2cee8fa0-aea7-4d75-d15b-93c3830df618"
      },
      "execution_count": 63,
      "outputs": [
        {
          "output_type": "stream",
          "name": "stdout",
          "text": [
            "Index(['cpu_percent', 'memory_percent', 'disk_io_counters', 'net_io_counters',\n",
            "       'graphics_name', 'graphics_ram_size', 'graphics_DeviceID',\n",
            "       'completion_time'],\n",
            "      dtype='object')\n"
          ]
        }
      ]
    },
    {
      "cell_type": "code",
      "source": [
        "X.head(3)"
      ],
      "metadata": {
        "colab": {
          "base_uri": "https://localhost:8080/",
          "height": 163
        },
        "id": "5oMQ7dgSvoYA",
        "outputId": "e4382c6a-ea65-4151-9f48-216edcf492b9"
      },
      "execution_count": 64,
      "outputs": [
        {
          "output_type": "execute_result",
          "data": {
            "text/plain": [
              "   cpu_percent  memory_percent  graphics_ram_size  completion_time  \\\n",
              "0         23.9            95.9       1.000000e+00         1.262159   \n",
              "1         11.5            89.3       1.073742e+09         1.322939   \n",
              "2          7.8            87.9       1.000000e+00         3.052404   \n",
              "\n",
              "   disk_io_read_bytes  disk_io_write_bytes  net_io_bytes_sent  \\\n",
              "0         17523695616          10711587328           21945181   \n",
              "1        170033679360          51831967744           45297907   \n",
              "2         14975958016           6321999872            9848370   \n",
              "\n",
              "   net_io_bytes_recv  \n",
              "0          781270113  \n",
              "1          327518128  \n",
              "2          149783862  "
            ],
            "text/html": [
              "\n",
              "  <div id=\"df-5680ed9f-79f3-4f24-accd-5c438a1d3bcb\" class=\"colab-df-container\">\n",
              "    <div>\n",
              "<style scoped>\n",
              "    .dataframe tbody tr th:only-of-type {\n",
              "        vertical-align: middle;\n",
              "    }\n",
              "\n",
              "    .dataframe tbody tr th {\n",
              "        vertical-align: top;\n",
              "    }\n",
              "\n",
              "    .dataframe thead th {\n",
              "        text-align: right;\n",
              "    }\n",
              "</style>\n",
              "<table border=\"1\" class=\"dataframe\">\n",
              "  <thead>\n",
              "    <tr style=\"text-align: right;\">\n",
              "      <th></th>\n",
              "      <th>cpu_percent</th>\n",
              "      <th>memory_percent</th>\n",
              "      <th>graphics_ram_size</th>\n",
              "      <th>completion_time</th>\n",
              "      <th>disk_io_read_bytes</th>\n",
              "      <th>disk_io_write_bytes</th>\n",
              "      <th>net_io_bytes_sent</th>\n",
              "      <th>net_io_bytes_recv</th>\n",
              "    </tr>\n",
              "  </thead>\n",
              "  <tbody>\n",
              "    <tr>\n",
              "      <th>0</th>\n",
              "      <td>23.9</td>\n",
              "      <td>95.9</td>\n",
              "      <td>1.000000e+00</td>\n",
              "      <td>1.262159</td>\n",
              "      <td>17523695616</td>\n",
              "      <td>10711587328</td>\n",
              "      <td>21945181</td>\n",
              "      <td>781270113</td>\n",
              "    </tr>\n",
              "    <tr>\n",
              "      <th>1</th>\n",
              "      <td>11.5</td>\n",
              "      <td>89.3</td>\n",
              "      <td>1.073742e+09</td>\n",
              "      <td>1.322939</td>\n",
              "      <td>170033679360</td>\n",
              "      <td>51831967744</td>\n",
              "      <td>45297907</td>\n",
              "      <td>327518128</td>\n",
              "    </tr>\n",
              "    <tr>\n",
              "      <th>2</th>\n",
              "      <td>7.8</td>\n",
              "      <td>87.9</td>\n",
              "      <td>1.000000e+00</td>\n",
              "      <td>3.052404</td>\n",
              "      <td>14975958016</td>\n",
              "      <td>6321999872</td>\n",
              "      <td>9848370</td>\n",
              "      <td>149783862</td>\n",
              "    </tr>\n",
              "  </tbody>\n",
              "</table>\n",
              "</div>\n",
              "    <div class=\"colab-df-buttons\">\n",
              "\n",
              "  <div class=\"colab-df-container\">\n",
              "    <button class=\"colab-df-convert\" onclick=\"convertToInteractive('df-5680ed9f-79f3-4f24-accd-5c438a1d3bcb')\"\n",
              "            title=\"Convert this dataframe to an interactive table.\"\n",
              "            style=\"display:none;\">\n",
              "\n",
              "  <svg xmlns=\"http://www.w3.org/2000/svg\" height=\"24px\" viewBox=\"0 -960 960 960\">\n",
              "    <path d=\"M120-120v-720h720v720H120Zm60-500h600v-160H180v160Zm220 220h160v-160H400v160Zm0 220h160v-160H400v160ZM180-400h160v-160H180v160Zm440 0h160v-160H620v160ZM180-180h160v-160H180v160Zm440 0h160v-160H620v160Z\"/>\n",
              "  </svg>\n",
              "    </button>\n",
              "\n",
              "  <style>\n",
              "    .colab-df-container {\n",
              "      display:flex;\n",
              "      gap: 12px;\n",
              "    }\n",
              "\n",
              "    .colab-df-convert {\n",
              "      background-color: #E8F0FE;\n",
              "      border: none;\n",
              "      border-radius: 50%;\n",
              "      cursor: pointer;\n",
              "      display: none;\n",
              "      fill: #1967D2;\n",
              "      height: 32px;\n",
              "      padding: 0 0 0 0;\n",
              "      width: 32px;\n",
              "    }\n",
              "\n",
              "    .colab-df-convert:hover {\n",
              "      background-color: #E2EBFA;\n",
              "      box-shadow: 0px 1px 2px rgba(60, 64, 67, 0.3), 0px 1px 3px 1px rgba(60, 64, 67, 0.15);\n",
              "      fill: #174EA6;\n",
              "    }\n",
              "\n",
              "    .colab-df-buttons div {\n",
              "      margin-bottom: 4px;\n",
              "    }\n",
              "\n",
              "    [theme=dark] .colab-df-convert {\n",
              "      background-color: #3B4455;\n",
              "      fill: #D2E3FC;\n",
              "    }\n",
              "\n",
              "    [theme=dark] .colab-df-convert:hover {\n",
              "      background-color: #434B5C;\n",
              "      box-shadow: 0px 1px 3px 1px rgba(0, 0, 0, 0.15);\n",
              "      filter: drop-shadow(0px 1px 2px rgba(0, 0, 0, 0.3));\n",
              "      fill: #FFFFFF;\n",
              "    }\n",
              "  </style>\n",
              "\n",
              "    <script>\n",
              "      const buttonEl =\n",
              "        document.querySelector('#df-5680ed9f-79f3-4f24-accd-5c438a1d3bcb button.colab-df-convert');\n",
              "      buttonEl.style.display =\n",
              "        google.colab.kernel.accessAllowed ? 'block' : 'none';\n",
              "\n",
              "      async function convertToInteractive(key) {\n",
              "        const element = document.querySelector('#df-5680ed9f-79f3-4f24-accd-5c438a1d3bcb');\n",
              "        const dataTable =\n",
              "          await google.colab.kernel.invokeFunction('convertToInteractive',\n",
              "                                                    [key], {});\n",
              "        if (!dataTable) return;\n",
              "\n",
              "        const docLinkHtml = 'Like what you see? Visit the ' +\n",
              "          '<a target=\"_blank\" href=https://colab.research.google.com/notebooks/data_table.ipynb>data table notebook</a>'\n",
              "          + ' to learn more about interactive tables.';\n",
              "        element.innerHTML = '';\n",
              "        dataTable['output_type'] = 'display_data';\n",
              "        await google.colab.output.renderOutput(dataTable, element);\n",
              "        const docLink = document.createElement('div');\n",
              "        docLink.innerHTML = docLinkHtml;\n",
              "        element.appendChild(docLink);\n",
              "      }\n",
              "    </script>\n",
              "  </div>\n",
              "\n",
              "\n",
              "<div id=\"df-f05377a0-f372-4e91-8b6f-2a244b5d8cc8\">\n",
              "  <button class=\"colab-df-quickchart\" onclick=\"quickchart('df-f05377a0-f372-4e91-8b6f-2a244b5d8cc8')\"\n",
              "            title=\"Suggest charts\"\n",
              "            style=\"display:none;\">\n",
              "\n",
              "<svg xmlns=\"http://www.w3.org/2000/svg\" height=\"24px\"viewBox=\"0 0 24 24\"\n",
              "     width=\"24px\">\n",
              "    <g>\n",
              "        <path d=\"M19 3H5c-1.1 0-2 .9-2 2v14c0 1.1.9 2 2 2h14c1.1 0 2-.9 2-2V5c0-1.1-.9-2-2-2zM9 17H7v-7h2v7zm4 0h-2V7h2v10zm4 0h-2v-4h2v4z\"/>\n",
              "    </g>\n",
              "</svg>\n",
              "  </button>\n",
              "\n",
              "<style>\n",
              "  .colab-df-quickchart {\n",
              "      --bg-color: #E8F0FE;\n",
              "      --fill-color: #1967D2;\n",
              "      --hover-bg-color: #E2EBFA;\n",
              "      --hover-fill-color: #174EA6;\n",
              "      --disabled-fill-color: #AAA;\n",
              "      --disabled-bg-color: #DDD;\n",
              "  }\n",
              "\n",
              "  [theme=dark] .colab-df-quickchart {\n",
              "      --bg-color: #3B4455;\n",
              "      --fill-color: #D2E3FC;\n",
              "      --hover-bg-color: #434B5C;\n",
              "      --hover-fill-color: #FFFFFF;\n",
              "      --disabled-bg-color: #3B4455;\n",
              "      --disabled-fill-color: #666;\n",
              "  }\n",
              "\n",
              "  .colab-df-quickchart {\n",
              "    background-color: var(--bg-color);\n",
              "    border: none;\n",
              "    border-radius: 50%;\n",
              "    cursor: pointer;\n",
              "    display: none;\n",
              "    fill: var(--fill-color);\n",
              "    height: 32px;\n",
              "    padding: 0;\n",
              "    width: 32px;\n",
              "  }\n",
              "\n",
              "  .colab-df-quickchart:hover {\n",
              "    background-color: var(--hover-bg-color);\n",
              "    box-shadow: 0 1px 2px rgba(60, 64, 67, 0.3), 0 1px 3px 1px rgba(60, 64, 67, 0.15);\n",
              "    fill: var(--button-hover-fill-color);\n",
              "  }\n",
              "\n",
              "  .colab-df-quickchart-complete:disabled,\n",
              "  .colab-df-quickchart-complete:disabled:hover {\n",
              "    background-color: var(--disabled-bg-color);\n",
              "    fill: var(--disabled-fill-color);\n",
              "    box-shadow: none;\n",
              "  }\n",
              "\n",
              "  .colab-df-spinner {\n",
              "    border: 2px solid var(--fill-color);\n",
              "    border-color: transparent;\n",
              "    border-bottom-color: var(--fill-color);\n",
              "    animation:\n",
              "      spin 1s steps(1) infinite;\n",
              "  }\n",
              "\n",
              "  @keyframes spin {\n",
              "    0% {\n",
              "      border-color: transparent;\n",
              "      border-bottom-color: var(--fill-color);\n",
              "      border-left-color: var(--fill-color);\n",
              "    }\n",
              "    20% {\n",
              "      border-color: transparent;\n",
              "      border-left-color: var(--fill-color);\n",
              "      border-top-color: var(--fill-color);\n",
              "    }\n",
              "    30% {\n",
              "      border-color: transparent;\n",
              "      border-left-color: var(--fill-color);\n",
              "      border-top-color: var(--fill-color);\n",
              "      border-right-color: var(--fill-color);\n",
              "    }\n",
              "    40% {\n",
              "      border-color: transparent;\n",
              "      border-right-color: var(--fill-color);\n",
              "      border-top-color: var(--fill-color);\n",
              "    }\n",
              "    60% {\n",
              "      border-color: transparent;\n",
              "      border-right-color: var(--fill-color);\n",
              "    }\n",
              "    80% {\n",
              "      border-color: transparent;\n",
              "      border-right-color: var(--fill-color);\n",
              "      border-bottom-color: var(--fill-color);\n",
              "    }\n",
              "    90% {\n",
              "      border-color: transparent;\n",
              "      border-bottom-color: var(--fill-color);\n",
              "    }\n",
              "  }\n",
              "</style>\n",
              "\n",
              "  <script>\n",
              "    async function quickchart(key) {\n",
              "      const quickchartButtonEl =\n",
              "        document.querySelector('#' + key + ' button');\n",
              "      quickchartButtonEl.disabled = true;  // To prevent multiple clicks.\n",
              "      quickchartButtonEl.classList.add('colab-df-spinner');\n",
              "      try {\n",
              "        const charts = await google.colab.kernel.invokeFunction(\n",
              "            'suggestCharts', [key], {});\n",
              "      } catch (error) {\n",
              "        console.error('Error during call to suggestCharts:', error);\n",
              "      }\n",
              "      quickchartButtonEl.classList.remove('colab-df-spinner');\n",
              "      quickchartButtonEl.classList.add('colab-df-quickchart-complete');\n",
              "    }\n",
              "    (() => {\n",
              "      let quickchartButtonEl =\n",
              "        document.querySelector('#df-f05377a0-f372-4e91-8b6f-2a244b5d8cc8 button');\n",
              "      quickchartButtonEl.style.display =\n",
              "        google.colab.kernel.accessAllowed ? 'block' : 'none';\n",
              "    })();\n",
              "  </script>\n",
              "</div>\n",
              "\n",
              "    </div>\n",
              "  </div>\n"
            ],
            "application/vnd.google.colaboratory.intrinsic+json": {
              "type": "dataframe",
              "variable_name": "X",
              "summary": "{\n  \"name\": \"X\",\n  \"rows\": 20,\n  \"fields\": [\n    {\n      \"column\": \"cpu_percent\",\n      \"properties\": {\n        \"dtype\": \"number\",\n        \"std\": 20.914698935890694,\n        \"min\": 0.1,\n        \"max\": 90.3,\n        \"num_unique_values\": 18,\n        \"samples\": [\n          23.9,\n          11.5,\n          6.0\n        ],\n        \"semantic_type\": \"\",\n        \"description\": \"\"\n      }\n    },\n    {\n      \"column\": \"memory_percent\",\n      \"properties\": {\n        \"dtype\": \"number\",\n        \"std\": 12.071858314190685,\n        \"min\": 43.4,\n        \"max\": 96.3,\n        \"num_unique_values\": 19,\n        \"samples\": [\n          95.9,\n          86.7,\n          43.4\n        ],\n        \"semantic_type\": \"\",\n        \"description\": \"\"\n      }\n    },\n    {\n      \"column\": \"graphics_ram_size\",\n      \"properties\": {\n        \"dtype\": \"number\",\n        \"std\": 240095970.7277518,\n        \"min\": -2.0,\n        \"max\": 1073741824.0,\n        \"num_unique_values\": 4,\n        \"samples\": [\n          1073741824.0,\n          -2.0,\n          1.0\n        ],\n        \"semantic_type\": \"\",\n        \"description\": \"\"\n      }\n    },\n    {\n      \"column\": \"completion_time\",\n      \"properties\": {\n        \"dtype\": \"number\",\n        \"std\": 0.4480857630982858,\n        \"min\": 1.1422808170318604,\n        \"max\": 3.0524044036865234,\n        \"num_unique_values\": 19,\n        \"samples\": [\n          1.2621588706970217,\n          1.1781635284423828,\n          1.5977754592895508\n        ],\n        \"semantic_type\": \"\",\n        \"description\": \"\"\n      }\n    },\n    {\n      \"column\": \"disk_io_read_bytes\",\n      \"properties\": {\n        \"dtype\": \"number\",\n        \"std\": 175522881117,\n        \"min\": 7177284608,\n        \"max\": 716344093184,\n        \"num_unique_values\": 19,\n        \"samples\": [\n          17523695616,\n          19876738048,\n          11322167296\n        ],\n        \"semantic_type\": \"\",\n        \"description\": \"\"\n      }\n    },\n    {\n      \"column\": \"disk_io_write_bytes\",\n      \"properties\": {\n        \"dtype\": \"number\",\n        \"std\": 54422791363,\n        \"min\": 3544852480,\n        \"max\": 190676071936,\n        \"num_unique_values\": 19,\n        \"samples\": [\n          10711587328,\n          12589080064,\n          3544852480\n        ],\n        \"semantic_type\": \"\",\n        \"description\": \"\"\n      }\n    },\n    {\n      \"column\": \"net_io_bytes_sent\",\n      \"properties\": {\n        \"dtype\": \"number\",\n        \"std\": 54179433,\n        \"min\": 2800982,\n        \"max\": 183007976,\n        \"num_unique_values\": 19,\n        \"samples\": [\n          21945181,\n          26126411,\n          2800982\n        ],\n        \"semantic_type\": \"\",\n        \"description\": \"\"\n      }\n    },\n    {\n      \"column\": \"net_io_bytes_recv\",\n      \"properties\": {\n        \"dtype\": \"number\",\n        \"std\": 492971686,\n        \"min\": 50659733,\n        \"max\": 2303917849,\n        \"num_unique_values\": 19,\n        \"samples\": [\n          781270113,\n          803493327,\n          50659733\n        ],\n        \"semantic_type\": \"\",\n        \"description\": \"\"\n      }\n    }\n  ]\n}"
            }
          },
          "metadata": {},
          "execution_count": 64
        }
      ]
    },
    {
      "cell_type": "code",
      "source": [],
      "metadata": {
        "id": "3eO4EO8czrHh"
      },
      "execution_count": 58,
      "outputs": []
    },
    {
      "cell_type": "code",
      "source": [
        "# Extract features and add new columns\n",
        "data['disk_io_read_bytes'] = data.apply(lambda row: extract_disk_io_metric(row, \"read\"), axis=1)\n",
        "data['disk_io_write_bytes'] = data.apply(lambda row: extract_disk_io_metric(row, \"write\"), axis=1)\n",
        "data['net_io_bytes_sent'] = data.apply(lambda row: extract_net_io_metric(row, \"bytes_sent\"), axis=1)\n",
        "data['net_io_bytes_recv'] = data.apply(lambda row: extract_net_io_metric(row, \"bytes_recv\"), axis=1)\n",
        "\n",
        "# Drop the original columns\n",
        "data = data.drop(columns=['disk_io_counters', 'net_io_counters','graphics_name','graphics_DeviceID'])"
      ],
      "metadata": {
        "id": "VCek5XUmzteG"
      },
      "execution_count": 65,
      "outputs": []
    },
    {
      "cell_type": "code",
      "source": [
        "# Feature scaling (consider for non-normally distributed data)\n",
        "scaler = StandardScaler()\n",
        "X = scaler.fit_transform(data[['cpu_percent', 'memory_percent', 'disk_io_read_bytes', 'disk_io_write_bytes', 'net_io_bytes_sent', 'net_io_bytes_recv', 'graphics_ram_size']])\n",
        "y = data['completion_time']\n",
        "\n",
        "data.head(2)"
      ],
      "metadata": {
        "id": "J5Yt4ZIGs73B"
      },
      "execution_count": null,
      "outputs": []
    },
    {
      "cell_type": "code",
      "source": [
        "# Train-test split for model evaluation\n",
        "X_train, X_test, y_train, y_test = train_test_split(X, y, test_size=0.2, random_state=42)"
      ],
      "metadata": {
        "id": "pz5YKWY6rRGR"
      },
      "execution_count": 67,
      "outputs": []
    },
    {
      "cell_type": "code",
      "source": [
        "# Create the linear regression model\n",
        "model = LinearRegression()\n",
        "\n"
      ],
      "metadata": {
        "id": "yq8jaZt94WCy"
      },
      "execution_count": 68,
      "outputs": []
    },
    {
      "cell_type": "code",
      "source": [
        "# Fit the model to the training data\n",
        "model.fit(X_train, y_train)\n",
        "\n"
      ],
      "metadata": {
        "colab": {
          "base_uri": "https://localhost:8080/",
          "height": 75
        },
        "id": "NLYeG9Zd4aLb",
        "outputId": "9f8b6dc5-1090-477d-f438-4fe3b30a5c32"
      },
      "execution_count": 69,
      "outputs": [
        {
          "output_type": "execute_result",
          "data": {
            "text/plain": [
              "LinearRegression()"
            ],
            "text/html": [
              "<style>#sk-container-id-1 {color: black;background-color: white;}#sk-container-id-1 pre{padding: 0;}#sk-container-id-1 div.sk-toggleable {background-color: white;}#sk-container-id-1 label.sk-toggleable__label {cursor: pointer;display: block;width: 100%;margin-bottom: 0;padding: 0.3em;box-sizing: border-box;text-align: center;}#sk-container-id-1 label.sk-toggleable__label-arrow:before {content: \"▸\";float: left;margin-right: 0.25em;color: #696969;}#sk-container-id-1 label.sk-toggleable__label-arrow:hover:before {color: black;}#sk-container-id-1 div.sk-estimator:hover label.sk-toggleable__label-arrow:before {color: black;}#sk-container-id-1 div.sk-toggleable__content {max-height: 0;max-width: 0;overflow: hidden;text-align: left;background-color: #f0f8ff;}#sk-container-id-1 div.sk-toggleable__content pre {margin: 0.2em;color: black;border-radius: 0.25em;background-color: #f0f8ff;}#sk-container-id-1 input.sk-toggleable__control:checked~div.sk-toggleable__content {max-height: 200px;max-width: 100%;overflow: auto;}#sk-container-id-1 input.sk-toggleable__control:checked~label.sk-toggleable__label-arrow:before {content: \"▾\";}#sk-container-id-1 div.sk-estimator input.sk-toggleable__control:checked~label.sk-toggleable__label {background-color: #d4ebff;}#sk-container-id-1 div.sk-label input.sk-toggleable__control:checked~label.sk-toggleable__label {background-color: #d4ebff;}#sk-container-id-1 input.sk-hidden--visually {border: 0;clip: rect(1px 1px 1px 1px);clip: rect(1px, 1px, 1px, 1px);height: 1px;margin: -1px;overflow: hidden;padding: 0;position: absolute;width: 1px;}#sk-container-id-1 div.sk-estimator {font-family: monospace;background-color: #f0f8ff;border: 1px dotted black;border-radius: 0.25em;box-sizing: border-box;margin-bottom: 0.5em;}#sk-container-id-1 div.sk-estimator:hover {background-color: #d4ebff;}#sk-container-id-1 div.sk-parallel-item::after {content: \"\";width: 100%;border-bottom: 1px solid gray;flex-grow: 1;}#sk-container-id-1 div.sk-label:hover label.sk-toggleable__label {background-color: #d4ebff;}#sk-container-id-1 div.sk-serial::before {content: \"\";position: absolute;border-left: 1px solid gray;box-sizing: border-box;top: 0;bottom: 0;left: 50%;z-index: 0;}#sk-container-id-1 div.sk-serial {display: flex;flex-direction: column;align-items: center;background-color: white;padding-right: 0.2em;padding-left: 0.2em;position: relative;}#sk-container-id-1 div.sk-item {position: relative;z-index: 1;}#sk-container-id-1 div.sk-parallel {display: flex;align-items: stretch;justify-content: center;background-color: white;position: relative;}#sk-container-id-1 div.sk-item::before, #sk-container-id-1 div.sk-parallel-item::before {content: \"\";position: absolute;border-left: 1px solid gray;box-sizing: border-box;top: 0;bottom: 0;left: 50%;z-index: -1;}#sk-container-id-1 div.sk-parallel-item {display: flex;flex-direction: column;z-index: 1;position: relative;background-color: white;}#sk-container-id-1 div.sk-parallel-item:first-child::after {align-self: flex-end;width: 50%;}#sk-container-id-1 div.sk-parallel-item:last-child::after {align-self: flex-start;width: 50%;}#sk-container-id-1 div.sk-parallel-item:only-child::after {width: 0;}#sk-container-id-1 div.sk-dashed-wrapped {border: 1px dashed gray;margin: 0 0.4em 0.5em 0.4em;box-sizing: border-box;padding-bottom: 0.4em;background-color: white;}#sk-container-id-1 div.sk-label label {font-family: monospace;font-weight: bold;display: inline-block;line-height: 1.2em;}#sk-container-id-1 div.sk-label-container {text-align: center;}#sk-container-id-1 div.sk-container {/* jupyter's `normalize.less` sets `[hidden] { display: none; }` but bootstrap.min.css set `[hidden] { display: none !important; }` so we also need the `!important` here to be able to override the default hidden behavior on the sphinx rendered scikit-learn.org. See: https://github.com/scikit-learn/scikit-learn/issues/21755 */display: inline-block !important;position: relative;}#sk-container-id-1 div.sk-text-repr-fallback {display: none;}</style><div id=\"sk-container-id-1\" class=\"sk-top-container\"><div class=\"sk-text-repr-fallback\"><pre>LinearRegression()</pre><b>In a Jupyter environment, please rerun this cell to show the HTML representation or trust the notebook. <br />On GitHub, the HTML representation is unable to render, please try loading this page with nbviewer.org.</b></div><div class=\"sk-container\" hidden><div class=\"sk-item\"><div class=\"sk-estimator sk-toggleable\"><input class=\"sk-toggleable__control sk-hidden--visually\" id=\"sk-estimator-id-1\" type=\"checkbox\" checked><label for=\"sk-estimator-id-1\" class=\"sk-toggleable__label sk-toggleable__label-arrow\">LinearRegression</label><div class=\"sk-toggleable__content\"><pre>LinearRegression()</pre></div></div></div></div></div>"
            ]
          },
          "metadata": {},
          "execution_count": 69
        }
      ]
    },
    {
      "cell_type": "code",
      "source": [
        "# Make predictions on the test data\n",
        "y_predicted = model.predict(X_test)\n",
        "\n",
        "# Evaluate the model performance using R-squared\n",
        "r2 = r2_score(y_test, y_predicted)\n",
        "print(\"R-squared:\", r2)\n",
        "\n",
        "# Print the coefficients of the model\n",
        "print(\"Coefficients:\", model.coef_)\n",
        "\n",
        "# Print the intercept of the model\n",
        "print(\"Intercept:\", model.intercept_)"
      ],
      "metadata": {
        "colab": {
          "base_uri": "https://localhost:8080/"
        },
        "id": "yifQoZKq4fFw",
        "outputId": "53b3c3ca-613f-41ba-b469-a8641a56ba73"
      },
      "execution_count": 70,
      "outputs": [
        {
          "output_type": "stream",
          "name": "stdout",
          "text": [
            "R-squared: -7.398457335590861e+17\n",
            "Coefficients: [ 4.91404451e-02  1.44934164e-01  3.51506007e-02 -4.61212165e-02\n",
            "  4.34207670e-03 -1.69519561e-01 -2.56946763e+07]\n",
            "Intercept: -5894761.628150324\n"
          ]
        }
      ]
    },
    {
      "cell_type": "code",
      "source": [
        "# Assuming your model is named 'model'\n",
        "coefficients = model.coef_\n",
        "feature_names = list(data.columns)[:-1]  # Exclude the dependent variable column\n",
        "\n",
        "# Sort coefficients by their absolute values in descending order\n",
        "sorted_importance = sorted(zip(feature_names, coefficients), key=lambda x: abs(x[1]), reverse=True)\n",
        "\n",
        "# Print the importance of each feature\n",
        "for name, importance in sorted_importance:\n",
        "    print(f\"Feature: {name}, Importance: {importance:.2f}\")  # Format importance to 2 decimal places\n"
      ],
      "metadata": {
        "colab": {
          "base_uri": "https://localhost:8080/"
        },
        "id": "PRegi7I486N3",
        "outputId": "d69e6dbd-edb4-4f43-83cc-3fc3a66d02c3"
      },
      "execution_count": 87,
      "outputs": [
        {
          "output_type": "stream",
          "name": "stdout",
          "text": [
            "Feature: net_io_bytes_sent, Importance: -25694676.31\n",
            "Feature: disk_io_write_bytes, Importance: -0.17\n",
            "Feature: memory_percent, Importance: 0.14\n",
            "Feature: cpu_percent, Importance: 0.05\n",
            "Feature: completion_time, Importance: -0.05\n",
            "Feature: graphics_ram_size, Importance: 0.04\n",
            "Feature: disk_io_read_bytes, Importance: 0.00\n"
          ]
        }
      ]
    },
    {
      "cell_type": "code",
      "source": [
        "from sklearn.inspection import permutation_importance\n",
        "\n",
        "# Assuming you have a trained model and features\n",
        "X_train, X_test, y_train, y_test = train_test_split(X, y)\n",
        "importance_matrix = permutation_importance(model, X_test, y_test, n_repeats=10)  # Adjust n_repeats if needed\n",
        "\n",
        "# Create a heatmap (adjust based on your feature names)\n",
        "feature_cols = list(df.columns)[:-1]  # Exclude dependent variable column\n",
        "sns.heatmap(importance_matrix.importances_mean.reshape(1, -1), xticklabels=feature_cols, cmap=\"viridis\")  # Adjust colormap as desired\n",
        "\n",
        "plt.xlabel(\"Features\")\n",
        "plt.ylabel(\"Importance Score\")\n",
        "plt.title(\"Feature Importance Heatmap\")\n",
        "plt.show()\n"
      ],
      "metadata": {
        "colab": {
          "base_uri": "https://localhost:8080/",
          "height": 472
        },
        "id": "gFpHJtsE_z2e",
        "outputId": "35b1fc33-83b3-43ea-b0e9-c353c82da18b"
      },
      "execution_count": 95,
      "outputs": [
        {
          "output_type": "display_data",
          "data": {
            "text/plain": [
              "<Figure size 640x480 with 2 Axes>"
            ],
            "image/png": "[encoded data removed]"
          },
          "metadata": {}
        }
      ]
    }
  ]
}