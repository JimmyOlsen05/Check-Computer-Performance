{
  "nbformat": 4,
  "nbformat_minor": 0,
  "metadata": {
    "colab": {
      "provenance": [],
      "authorship_tag": "ABX9TyOqeIG6R0fTxTiHPR5HB/mx",
      "include_colab_link": true
    },
    "kernelspec": {
      "name": "python3",
      "display_name": "Python 3"
    },
    "language_info": {
      "name": "python"
    }
  },
  "cells": [
    {
      "cell_type": "markdown",
      "metadata": {
        "id": "view-in-github",
        "colab_type": "text"
      },
      "source": [
        "<a href=\"https://colab.research.google.com/github/JimmyOlsen05/Check-Computer-Performance/blob/master/How%20Various%20Computer%20Metrics%20Affect%20the%20Performance%20of%20Computers%20using%20Multiple%20Linear%20Regression.ipynb\" target=\"_parent\"><img src=\"https://colab.research.google.com/assets/colab-badge.svg\" alt=\"Open In Colab\"/></a>"
      ]
    },
    {
      "cell_type": "code",
      "execution_count": 111,
      "metadata": {
        "id": "sZqnc2mOjPIp"
      },
      "outputs": [],
      "source": [
        "import pandas as pd\n",
        "from sklearn.inspection import partial_dependence\n",
        "import re\n",
        "import numpy as np\n",
        "from sklearn.inspection import permutation_importance\n",
        "import seaborn as sns\n",
        "import matplotlib.pyplot as plt\n",
        "from sklearn.preprocessing import StandardScaler,Normalizer,MinMaxScaler\n",
        "from sklearn.linear_model import LinearRegression\n",
        "from sklearn.model_selection import train_test_split\n",
        "from sklearn.metrics import r2_score"
      ]
    },
    {
      "cell_type": "code",
      "source": [
        "data=pd.read_csv('/content/sample_data/New_performance_data.csv')"
      ],
      "metadata": {
        "id": "KEa5-PRQjUML"
      },
      "execution_count": 112,
      "outputs": []
    },
    {
      "cell_type": "code",
      "source": [
        "data.head(2)"
      ],
      "metadata": {
        "id": "8cUR7Nb4jm-L"
      },
      "execution_count": null,
      "outputs": []
    },
    {
      "cell_type": "code",
      "source": [
        "print(data.columns)\n"
      ],
      "metadata": {
        "id": "0R3dZxDgu4Uo"
      },
      "execution_count": null,
      "outputs": []
    },
    {
      "cell_type": "code",
      "source": [
        "# Define extraction functions for disk_io and net_io metrics\n",
        "def extract_disk_io_metric(row, metric_name):\n",
        "    pattern = re.compile(rf\"{metric_name}_bytes=\\d+\")\n",
        "    match = pattern.search(row['disk_io_counters'])\n",
        "    return int(match.group().split(\"=\")[1]) if match else 0\n",
        "\n",
        "def extract_net_io_metric(row, metric_name):\n",
        "    pattern = re.compile(rf\"{metric_name}=[\\d]+\")\n",
        "    match = pattern.search(row['net_io_counters'])\n",
        "    return int(match.group().split(\"=\")[1]) if match else 0"
      ],
      "metadata": {
        "id": "3eO4EO8czrHh"
      },
      "execution_count": 113,
      "outputs": []
    },
    {
      "cell_type": "code",
      "source": [
        "# Extract features and add new columns\n",
        "data['disk_io_read_bytes'] = data.apply(lambda row: extract_disk_io_metric(row, \"read\"), axis=1)\n",
        "data['disk_io_write_bytes'] = data.apply(lambda row: extract_disk_io_metric(row, \"write\"), axis=1)\n",
        "data['net_io_bytes_sent'] = data.apply(lambda row: extract_net_io_metric(row, \"bytes_sent\"), axis=1)\n",
        "data['net_io_bytes_recv'] = data.apply(lambda row: extract_net_io_metric(row, \"bytes_recv\"), axis=1)\n",
        "\n",
        "# Drop the original columns\n",
        "data = data.drop(columns=['disk_io_counters', 'net_io_counters','graphics_name','graphics_DeviceID'])"
      ],
      "metadata": {
        "id": "VCek5XUmzteG"
      },
      "execution_count": 114,
      "outputs": []
    },
    {
      "cell_type": "code",
      "source": [
        "# Feature scaling (consider for non-normally distributed data)\n",
        "#scaler = StandardScaler()\n",
        "\n",
        "#scaler = Normalizer()\n",
        "scaler = MinMaxScaler()\n",
        "\n",
        "X = scaler.fit_transform(data[['cpu_percent', 'memory_percent', 'disk_io_read_bytes', 'disk_io_write_bytes', 'net_io_bytes_sent', 'net_io_bytes_recv', 'graphics_ram_size']])\n",
        "y = data['completion_time']\n"
      ],
      "metadata": {
        "id": "J5Yt4ZIGs73B"
      },
      "execution_count": 115,
      "outputs": []
    },
    {
      "cell_type": "code",
      "source": [
        "# Convert scaled features (X) to a DataFrame\n",
        "X_df = pd.DataFrame(X, columns=['cpu_percent', 'memory_percent', 'disk_io_read_bytes', 'disk_io_write_bytes', 'net_io_bytes_sent', 'net_io_bytes_recv', 'graphics_ram_size'])\n",
        "\n",
        "data = pd.concat([X_df,y],axis=1)\n",
        "\n",
        "data\n"
      ],
      "metadata": {
        "colab": {
          "base_uri": "https://localhost:8080/",
          "height": 728
        },
        "id": "KYEELg6ktYPJ",
        "outputId": "8d74efb6-e79f-491f-9102-37dda61b710c"
      },
      "execution_count": 116,
      "outputs": [
        {
          "output_type": "execute_result",
          "data": {
            "text/plain": [
              "    cpu_percent  memory_percent  disk_io_read_bytes  disk_io_write_bytes  \\\n",
              "0      0.263858        0.992439            0.014590             0.038298   \n",
              "1      0.126386        0.867675            0.229645             0.258039   \n",
              "2      0.085366        0.841210            0.010997             0.014841   \n",
              "3      1.000000        1.000000            1.000000             1.000000   \n",
              "4      0.000000        0.631380            0.002118             0.015536   \n",
              "5      0.241685        0.818526            0.017908             0.048331   \n",
              "6      0.055432        0.706994            0.000000             0.009960   \n",
              "7      0.026608        0.754253            0.124944             0.378973   \n",
              "8      0.065410        0.964083            0.151015             0.367559   \n",
              "9      0.016630        0.663516            0.017662             0.047823   \n",
              "10     0.432373        0.846881            0.017618             0.047120   \n",
              "11     0.016630        0.000000            0.005845             0.000000   \n",
              "12     0.050998        0.623819            0.084003             0.349388   \n",
              "13     0.022173        0.640832            0.002128             0.015769   \n",
              "14     0.003326        0.729679            0.002179             0.015896   \n",
              "15     0.007761        0.620038            0.002180             0.016301   \n",
              "16     0.019956        0.616257            0.002127             0.015569   \n",
              "17     0.019956        0.616257            0.002127             0.015569   \n",
              "18     0.170732        0.930057            0.168818             0.249867   \n",
              "19     0.070953        0.413989            0.575787             0.886445   \n",
              "20     0.325942        0.807183            0.028115             0.108151   \n",
              "\n",
              "    net_io_bytes_sent  net_io_bytes_recv  graphics_ram_size  completion_time  \n",
              "0            0.038662           0.066801           0.333333         1.262159  \n",
              "1            0.085824           0.025314           0.333333         1.322939  \n",
              "2            0.014232           0.009063           0.333333         3.052404  \n",
              "3            0.008405           0.004730           0.333333         1.981341  \n",
              "4            0.051004           0.042781           0.000000         1.150472  \n",
              "5            0.047106           0.068833           0.333333         1.178164  \n",
              "6            0.034342           0.036428           0.000000         1.190690  \n",
              "7            0.348507           0.206019           0.333333         1.142281  \n",
              "8            0.204069           0.075808           0.333333         1.165083  \n",
              "9            0.044223           0.068712           0.333333         1.165766  \n",
              "10           0.044026           0.068706           0.333333         1.287932  \n",
              "11           0.000000           0.000000           1.000000         1.597775  \n",
              "12           0.363934           0.104559           0.333333         1.155267  \n",
              "13           0.051323           0.042827           0.000000         1.150303  \n",
              "14           0.052465           0.043245           0.000000         1.204547  \n",
              "15           0.052485           0.043246           0.000000         1.154448  \n",
              "16           0.051198           0.042787           0.000000         1.171459  \n",
              "17           0.051198           0.042787           0.000000         1.171459  \n",
              "18           0.252183           0.032091           0.333333         1.297943  \n",
              "19           0.018194           0.008811           0.333333         1.163546  \n",
              "20           1.000000           1.000000           0.852183         4.560630  "
            ],
            "text/html": [
              "\n",
              "  <div id=\"df-0f5ed5db-5193-4bd3-927d-716c2b983aeb\" class=\"colab-df-container\">\n",
              "    <div>\n",
              "<style scoped>\n",
              "    .dataframe tbody tr th:only-of-type {\n",
              "        vertical-align: middle;\n",
              "    }\n",
              "\n",
              "    .dataframe tbody tr th {\n",
              "        vertical-align: top;\n",
              "    }\n",
              "\n",
              "    .dataframe thead th {\n",
              "        text-align: right;\n",
              "    }\n",
              "</style>\n",
              "<table border=\"1\" class=\"dataframe\">\n",
              "  <thead>\n",
              "    <tr style=\"text-align: right;\">\n",
              "      <th></th>\n",
              "      <th>cpu_percent</th>\n",
              "      <th>memory_percent</th>\n",
              "      <th>disk_io_read_bytes</th>\n",
              "      <th>disk_io_write_bytes</th>\n",
              "      <th>net_io_bytes_sent</th>\n",
              "      <th>net_io_bytes_recv</th>\n",
              "      <th>graphics_ram_size</th>\n",
              "      <th>completion_time</th>\n",
              "    </tr>\n",
              "  </thead>\n",
              "  <tbody>\n",
              "    <tr>\n",
              "      <th>0</th>\n",
              "      <td>0.263858</td>\n",
              "      <td>0.992439</td>\n",
              "      <td>0.014590</td>\n",
              "      <td>0.038298</td>\n",
              "      <td>0.038662</td>\n",
              "      <td>0.066801</td>\n",
              "      <td>0.333333</td>\n",
              "      <td>1.262159</td>\n",
              "    </tr>\n",
              "    <tr>\n",
              "      <th>1</th>\n",
              "      <td>0.126386</td>\n",
              "      <td>0.867675</td>\n",
              "      <td>0.229645</td>\n",
              "      <td>0.258039</td>\n",
              "      <td>0.085824</td>\n",
              "      <td>0.025314</td>\n",
              "      <td>0.333333</td>\n",
              "      <td>1.322939</td>\n",
              "    </tr>\n",
              "    <tr>\n",
              "      <th>2</th>\n",
              "      <td>0.085366</td>\n",
              "      <td>0.841210</td>\n",
              "      <td>0.010997</td>\n",
              "      <td>0.014841</td>\n",
              "      <td>0.014232</td>\n",
              "      <td>0.009063</td>\n",
              "      <td>0.333333</td>\n",
              "      <td>3.052404</td>\n",
              "    </tr>\n",
              "    <tr>\n",
              "      <th>3</th>\n",
              "      <td>1.000000</td>\n",
              "      <td>1.000000</td>\n",
              "      <td>1.000000</td>\n",
              "      <td>1.000000</td>\n",
              "      <td>0.008405</td>\n",
              "      <td>0.004730</td>\n",
              "      <td>0.333333</td>\n",
              "      <td>1.981341</td>\n",
              "    </tr>\n",
              "    <tr>\n",
              "      <th>4</th>\n",
              "      <td>0.000000</td>\n",
              "      <td>0.631380</td>\n",
              "      <td>0.002118</td>\n",
              "      <td>0.015536</td>\n",
              "      <td>0.051004</td>\n",
              "      <td>0.042781</td>\n",
              "      <td>0.000000</td>\n",
              "      <td>1.150472</td>\n",
              "    </tr>\n",
              "    <tr>\n",
              "      <th>5</th>\n",
              "      <td>0.241685</td>\n",
              "      <td>0.818526</td>\n",
              "      <td>0.017908</td>\n",
              "      <td>0.048331</td>\n",
              "      <td>0.047106</td>\n",
              "      <td>0.068833</td>\n",
              "      <td>0.333333</td>\n",
              "      <td>1.178164</td>\n",
              "    </tr>\n",
              "    <tr>\n",
              "      <th>6</th>\n",
              "      <td>0.055432</td>\n",
              "      <td>0.706994</td>\n",
              "      <td>0.000000</td>\n",
              "      <td>0.009960</td>\n",
              "      <td>0.034342</td>\n",
              "      <td>0.036428</td>\n",
              "      <td>0.000000</td>\n",
              "      <td>1.190690</td>\n",
              "    </tr>\n",
              "    <tr>\n",
              "      <th>7</th>\n",
              "      <td>0.026608</td>\n",
              "      <td>0.754253</td>\n",
              "      <td>0.124944</td>\n",
              "      <td>0.378973</td>\n",
              "      <td>0.348507</td>\n",
              "      <td>0.206019</td>\n",
              "      <td>0.333333</td>\n",
              "      <td>1.142281</td>\n",
              "    </tr>\n",
              "    <tr>\n",
              "      <th>8</th>\n",
              "      <td>0.065410</td>\n",
              "      <td>0.964083</td>\n",
              "      <td>0.151015</td>\n",
              "      <td>0.367559</td>\n",
              "      <td>0.204069</td>\n",
              "      <td>0.075808</td>\n",
              "      <td>0.333333</td>\n",
              "      <td>1.165083</td>\n",
              "    </tr>\n",
              "    <tr>\n",
              "      <th>9</th>\n",
              "      <td>0.016630</td>\n",
              "      <td>0.663516</td>\n",
              "      <td>0.017662</td>\n",
              "      <td>0.047823</td>\n",
              "      <td>0.044223</td>\n",
              "      <td>0.068712</td>\n",
              "      <td>0.333333</td>\n",
              "      <td>1.165766</td>\n",
              "    </tr>\n",
              "    <tr>\n",
              "      <th>10</th>\n",
              "      <td>0.432373</td>\n",
              "      <td>0.846881</td>\n",
              "      <td>0.017618</td>\n",
              "      <td>0.047120</td>\n",
              "      <td>0.044026</td>\n",
              "      <td>0.068706</td>\n",
              "      <td>0.333333</td>\n",
              "      <td>1.287932</td>\n",
              "    </tr>\n",
              "    <tr>\n",
              "      <th>11</th>\n",
              "      <td>0.016630</td>\n",
              "      <td>0.000000</td>\n",
              "      <td>0.005845</td>\n",
              "      <td>0.000000</td>\n",
              "      <td>0.000000</td>\n",
              "      <td>0.000000</td>\n",
              "      <td>1.000000</td>\n",
              "      <td>1.597775</td>\n",
              "    </tr>\n",
              "    <tr>\n",
              "      <th>12</th>\n",
              "      <td>0.050998</td>\n",
              "      <td>0.623819</td>\n",
              "      <td>0.084003</td>\n",
              "      <td>0.349388</td>\n",
              "      <td>0.363934</td>\n",
              "      <td>0.104559</td>\n",
              "      <td>0.333333</td>\n",
              "      <td>1.155267</td>\n",
              "    </tr>\n",
              "    <tr>\n",
              "      <th>13</th>\n",
              "      <td>0.022173</td>\n",
              "      <td>0.640832</td>\n",
              "      <td>0.002128</td>\n",
              "      <td>0.015769</td>\n",
              "      <td>0.051323</td>\n",
              "      <td>0.042827</td>\n",
              "      <td>0.000000</td>\n",
              "      <td>1.150303</td>\n",
              "    </tr>\n",
              "    <tr>\n",
              "      <th>14</th>\n",
              "      <td>0.003326</td>\n",
              "      <td>0.729679</td>\n",
              "      <td>0.002179</td>\n",
              "      <td>0.015896</td>\n",
              "      <td>0.052465</td>\n",
              "      <td>0.043245</td>\n",
              "      <td>0.000000</td>\n",
              "      <td>1.204547</td>\n",
              "    </tr>\n",
              "    <tr>\n",
              "      <th>15</th>\n",
              "      <td>0.007761</td>\n",
              "      <td>0.620038</td>\n",
              "      <td>0.002180</td>\n",
              "      <td>0.016301</td>\n",
              "      <td>0.052485</td>\n",
              "      <td>0.043246</td>\n",
              "      <td>0.000000</td>\n",
              "      <td>1.154448</td>\n",
              "    </tr>\n",
              "    <tr>\n",
              "      <th>16</th>\n",
              "      <td>0.019956</td>\n",
              "      <td>0.616257</td>\n",
              "      <td>0.002127</td>\n",
              "      <td>0.015569</td>\n",
              "      <td>0.051198</td>\n",
              "      <td>0.042787</td>\n",
              "      <td>0.000000</td>\n",
              "      <td>1.171459</td>\n",
              "    </tr>\n",
              "    <tr>\n",
              "      <th>17</th>\n",
              "      <td>0.019956</td>\n",
              "      <td>0.616257</td>\n",
              "      <td>0.002127</td>\n",
              "      <td>0.015569</td>\n",
              "      <td>0.051198</td>\n",
              "      <td>0.042787</td>\n",
              "      <td>0.000000</td>\n",
              "      <td>1.171459</td>\n",
              "    </tr>\n",
              "    <tr>\n",
              "      <th>18</th>\n",
              "      <td>0.170732</td>\n",
              "      <td>0.930057</td>\n",
              "      <td>0.168818</td>\n",
              "      <td>0.249867</td>\n",
              "      <td>0.252183</td>\n",
              "      <td>0.032091</td>\n",
              "      <td>0.333333</td>\n",
              "      <td>1.297943</td>\n",
              "    </tr>\n",
              "    <tr>\n",
              "      <th>19</th>\n",
              "      <td>0.070953</td>\n",
              "      <td>0.413989</td>\n",
              "      <td>0.575787</td>\n",
              "      <td>0.886445</td>\n",
              "      <td>0.018194</td>\n",
              "      <td>0.008811</td>\n",
              "      <td>0.333333</td>\n",
              "      <td>1.163546</td>\n",
              "    </tr>\n",
              "    <tr>\n",
              "      <th>20</th>\n",
              "      <td>0.325942</td>\n",
              "      <td>0.807183</td>\n",
              "      <td>0.028115</td>\n",
              "      <td>0.108151</td>\n",
              "      <td>1.000000</td>\n",
              "      <td>1.000000</td>\n",
              "      <td>0.852183</td>\n",
              "      <td>4.560630</td>\n",
              "    </tr>\n",
              "  </tbody>\n",
              "</table>\n",
              "</div>\n",
              "    <div class=\"colab-df-buttons\">\n",
              "\n",
              "  <div class=\"colab-df-container\">\n",
              "    <button class=\"colab-df-convert\" onclick=\"convertToInteractive('df-0f5ed5db-5193-4bd3-927d-716c2b983aeb')\"\n",
              "            title=\"Convert this dataframe to an interactive table.\"\n",
              "            style=\"display:none;\">\n",
              "\n",
              "  <svg xmlns=\"http://www.w3.org/2000/svg\" height=\"24px\" viewBox=\"0 -960 960 960\">\n",
              "    <path d=\"M120-120v-720h720v720H120Zm60-500h600v-160H180v160Zm220 220h160v-160H400v160Zm0 220h160v-160H400v160ZM180-400h160v-160H180v160Zm440 0h160v-160H620v160ZM180-180h160v-160H180v160Zm440 0h160v-160H620v160Z\"/>\n",
              "  </svg>\n",
              "    </button>\n",
              "\n",
              "  <style>\n",
              "    .colab-df-container {\n",
              "      display:flex;\n",
              "      gap: 12px;\n",
              "    }\n",
              "\n",
              "    .colab-df-convert {\n",
              "      background-color: #E8F0FE;\n",
              "      border: none;\n",
              "      border-radius: 50%;\n",
              "      cursor: pointer;\n",
              "      display: none;\n",
              "      fill: #1967D2;\n",
              "      height: 32px;\n",
              "      padding: 0 0 0 0;\n",
              "      width: 32px;\n",
              "    }\n",
              "\n",
              "    .colab-df-convert:hover {\n",
              "      background-color: #E2EBFA;\n",
              "      box-shadow: 0px 1px 2px rgba(60, 64, 67, 0.3), 0px 1px 3px 1px rgba(60, 64, 67, 0.15);\n",
              "      fill: #174EA6;\n",
              "    }\n",
              "\n",
              "    .colab-df-buttons div {\n",
              "      margin-bottom: 4px;\n",
              "    }\n",
              "\n",
              "    [theme=dark] .colab-df-convert {\n",
              "      background-color: #3B4455;\n",
              "      fill: #D2E3FC;\n",
              "    }\n",
              "\n",
              "    [theme=dark] .colab-df-convert:hover {\n",
              "      background-color: #434B5C;\n",
              "      box-shadow: 0px 1px 3px 1px rgba(0, 0, 0, 0.15);\n",
              "      filter: drop-shadow(0px 1px 2px rgba(0, 0, 0, 0.3));\n",
              "      fill: #FFFFFF;\n",
              "    }\n",
              "  </style>\n",
              "\n",
              "    <script>\n",
              "      const buttonEl =\n",
              "        document.querySelector('#df-0f5ed5db-5193-4bd3-927d-716c2b983aeb button.colab-df-convert');\n",
              "      buttonEl.style.display =\n",
              "        google.colab.kernel.accessAllowed ? 'block' : 'none';\n",
              "\n",
              "      async function convertToInteractive(key) {\n",
              "        const element = document.querySelector('#df-0f5ed5db-5193-4bd3-927d-716c2b983aeb');\n",
              "        const dataTable =\n",
              "          await google.colab.kernel.invokeFunction('convertToInteractive',\n",
              "                                                    [key], {});\n",
              "        if (!dataTable) return;\n",
              "\n",
              "        const docLinkHtml = 'Like what you see? Visit the ' +\n",
              "          '<a target=\"_blank\" href=https://colab.research.google.com/notebooks/data_table.ipynb>data table notebook</a>'\n",
              "          + ' to learn more about interactive tables.';\n",
              "        element.innerHTML = '';\n",
              "        dataTable['output_type'] = 'display_data';\n",
              "        await google.colab.output.renderOutput(dataTable, element);\n",
              "        const docLink = document.createElement('div');\n",
              "        docLink.innerHTML = docLinkHtml;\n",
              "        element.appendChild(docLink);\n",
              "      }\n",
              "    </script>\n",
              "  </div>\n",
              "\n",
              "\n",
              "<div id=\"df-00408677-65be-4779-8936-020342ec3122\">\n",
              "  <button class=\"colab-df-quickchart\" onclick=\"quickchart('df-00408677-65be-4779-8936-020342ec3122')\"\n",
              "            title=\"Suggest charts\"\n",
              "            style=\"display:none;\">\n",
              "\n",
              "<svg xmlns=\"http://www.w3.org/2000/svg\" height=\"24px\"viewBox=\"0 0 24 24\"\n",
              "     width=\"24px\">\n",
              "    <g>\n",
              "        <path d=\"M19 3H5c-1.1 0-2 .9-2 2v14c0 1.1.9 2 2 2h14c1.1 0 2-.9 2-2V5c0-1.1-.9-2-2-2zM9 17H7v-7h2v7zm4 0h-2V7h2v10zm4 0h-2v-4h2v4z\"/>\n",
              "    </g>\n",
              "</svg>\n",
              "  </button>\n",
              "\n",
              "<style>\n",
              "  .colab-df-quickchart {\n",
              "      --bg-color: #E8F0FE;\n",
              "      --fill-color: #1967D2;\n",
              "      --hover-bg-color: #E2EBFA;\n",
              "      --hover-fill-color: #174EA6;\n",
              "      --disabled-fill-color: #AAA;\n",
              "      --disabled-bg-color: #DDD;\n",
              "  }\n",
              "\n",
              "  [theme=dark] .colab-df-quickchart {\n",
              "      --bg-color: #3B4455;\n",
              "      --fill-color: #D2E3FC;\n",
              "      --hover-bg-color: #434B5C;\n",
              "      --hover-fill-color: #FFFFFF;\n",
              "      --disabled-bg-color: #3B4455;\n",
              "      --disabled-fill-color: #666;\n",
              "  }\n",
              "\n",
              "  .colab-df-quickchart {\n",
              "    background-color: var(--bg-color);\n",
              "    border: none;\n",
              "    border-radius: 50%;\n",
              "    cursor: pointer;\n",
              "    display: none;\n",
              "    fill: var(--fill-color);\n",
              "    height: 32px;\n",
              "    padding: 0;\n",
              "    width: 32px;\n",
              "  }\n",
              "\n",
              "  .colab-df-quickchart:hover {\n",
              "    background-color: var(--hover-bg-color);\n",
              "    box-shadow: 0 1px 2px rgba(60, 64, 67, 0.3), 0 1px 3px 1px rgba(60, 64, 67, 0.15);\n",
              "    fill: var(--button-hover-fill-color);\n",
              "  }\n",
              "\n",
              "  .colab-df-quickchart-complete:disabled,\n",
              "  .colab-df-quickchart-complete:disabled:hover {\n",
              "    background-color: var(--disabled-bg-color);\n",
              "    fill: var(--disabled-fill-color);\n",
              "    box-shadow: none;\n",
              "  }\n",
              "\n",
              "  .colab-df-spinner {\n",
              "    border: 2px solid var(--fill-color);\n",
              "    border-color: transparent;\n",
              "    border-bottom-color: var(--fill-color);\n",
              "    animation:\n",
              "      spin 1s steps(1) infinite;\n",
              "  }\n",
              "\n",
              "  @keyframes spin {\n",
              "    0% {\n",
              "      border-color: transparent;\n",
              "      border-bottom-color: var(--fill-color);\n",
              "      border-left-color: var(--fill-color);\n",
              "    }\n",
              "    20% {\n",
              "      border-color: transparent;\n",
              "      border-left-color: var(--fill-color);\n",
              "      border-top-color: var(--fill-color);\n",
              "    }\n",
              "    30% {\n",
              "      border-color: transparent;\n",
              "      border-left-color: var(--fill-color);\n",
              "      border-top-color: var(--fill-color);\n",
              "      border-right-color: var(--fill-color);\n",
              "    }\n",
              "    40% {\n",
              "      border-color: transparent;\n",
              "      border-right-color: var(--fill-color);\n",
              "      border-top-color: var(--fill-color);\n",
              "    }\n",
              "    60% {\n",
              "      border-color: transparent;\n",
              "      border-right-color: var(--fill-color);\n",
              "    }\n",
              "    80% {\n",
              "      border-color: transparent;\n",
              "      border-right-color: var(--fill-color);\n",
              "      border-bottom-color: var(--fill-color);\n",
              "    }\n",
              "    90% {\n",
              "      border-color: transparent;\n",
              "      border-bottom-color: var(--fill-color);\n",
              "    }\n",
              "  }\n",
              "</style>\n",
              "\n",
              "  <script>\n",
              "    async function quickchart(key) {\n",
              "      const quickchartButtonEl =\n",
              "        document.querySelector('#' + key + ' button');\n",
              "      quickchartButtonEl.disabled = true;  // To prevent multiple clicks.\n",
              "      quickchartButtonEl.classList.add('colab-df-spinner');\n",
              "      try {\n",
              "        const charts = await google.colab.kernel.invokeFunction(\n",
              "            'suggestCharts', [key], {});\n",
              "      } catch (error) {\n",
              "        console.error('Error during call to suggestCharts:', error);\n",
              "      }\n",
              "      quickchartButtonEl.classList.remove('colab-df-spinner');\n",
              "      quickchartButtonEl.classList.add('colab-df-quickchart-complete');\n",
              "    }\n",
              "    (() => {\n",
              "      let quickchartButtonEl =\n",
              "        document.querySelector('#df-00408677-65be-4779-8936-020342ec3122 button');\n",
              "      quickchartButtonEl.style.display =\n",
              "        google.colab.kernel.accessAllowed ? 'block' : 'none';\n",
              "    })();\n",
              "  </script>\n",
              "</div>\n",
              "\n",
              "  <div id=\"id_02dd2105-e675-4dfb-9035-3e4ca5126b91\">\n",
              "    <style>\n",
              "      .colab-df-generate {\n",
              "        background-color: #E8F0FE;\n",
              "        border: none;\n",
              "        border-radius: 50%;\n",
              "        cursor: pointer;\n",
              "        display: none;\n",
              "        fill: #1967D2;\n",
              "        height: 32px;\n",
              "        padding: 0 0 0 0;\n",
              "        width: 32px;\n",
              "      }\n",
              "\n",
              "      .colab-df-generate:hover {\n",
              "        background-color: #E2EBFA;\n",
              "        box-shadow: 0px 1px 2px rgba(60, 64, 67, 0.3), 0px 1px 3px 1px rgba(60, 64, 67, 0.15);\n",
              "        fill: #174EA6;\n",
              "      }\n",
              "\n",
              "      [theme=dark] .colab-df-generate {\n",
              "        background-color: #3B4455;\n",
              "        fill: #D2E3FC;\n",
              "      }\n",
              "\n",
              "      [theme=dark] .colab-df-generate:hover {\n",
              "        background-color: #434B5C;\n",
              "        box-shadow: 0px 1px 3px 1px rgba(0, 0, 0, 0.15);\n",
              "        filter: drop-shadow(0px 1px 2px rgba(0, 0, 0, 0.3));\n",
              "        fill: #FFFFFF;\n",
              "      }\n",
              "    </style>\n",
              "    <button class=\"colab-df-generate\" onclick=\"generateWithVariable('data')\"\n",
              "            title=\"Generate code using this dataframe.\"\n",
              "            style=\"display:none;\">\n",
              "\n",
              "  <svg xmlns=\"http://www.w3.org/2000/svg\" height=\"24px\"viewBox=\"0 0 24 24\"\n",
              "       width=\"24px\">\n",
              "    <path d=\"M7,19H8.4L18.45,9,17,7.55,7,17.6ZM5,21V16.75L18.45,3.32a2,2,0,0,1,2.83,0l1.4,1.43a1.91,1.91,0,0,1,.58,1.4,1.91,1.91,0,0,1-.58,1.4L9.25,21ZM18.45,9,17,7.55Zm-12,3A5.31,5.31,0,0,0,4.9,8.1,5.31,5.31,0,0,0,1,6.5,5.31,5.31,0,0,0,4.9,4.9,5.31,5.31,0,0,0,6.5,1,5.31,5.31,0,0,0,8.1,4.9,5.31,5.31,0,0,0,12,6.5,5.46,5.46,0,0,0,6.5,12Z\"/>\n",
              "  </svg>\n",
              "    </button>\n",
              "    <script>\n",
              "      (() => {\n",
              "      const buttonEl =\n",
              "        document.querySelector('#id_02dd2105-e675-4dfb-9035-3e4ca5126b91 button.colab-df-generate');\n",
              "      buttonEl.style.display =\n",
              "        google.colab.kernel.accessAllowed ? 'block' : 'none';\n",
              "\n",
              "      buttonEl.onclick = () => {\n",
              "        google.colab.notebook.generateWithVariable('data');\n",
              "      }\n",
              "      })();\n",
              "    </script>\n",
              "  </div>\n",
              "\n",
              "    </div>\n",
              "  </div>\n"
            ],
            "application/vnd.google.colaboratory.intrinsic+json": {
              "type": "dataframe",
              "variable_name": "data",
              "summary": "{\n  \"name\": \"data\",\n  \"rows\": 21,\n  \"fields\": [\n    {\n      \"column\": \"cpu_percent\",\n      \"properties\": {\n        \"dtype\": \"number\",\n        \"std\": 0.22981558872917715,\n        \"min\": 0.0,\n        \"max\": 0.9999999999999999,\n        \"num_unique_values\": 19,\n        \"samples\": [\n          0.2638580931263858,\n          0.2416851441241685,\n          0.050997782705099776\n        ],\n        \"semantic_type\": \"\",\n        \"description\": \"\"\n      }\n    },\n    {\n      \"column\": \"memory_percent\",\n      \"properties\": {\n        \"dtype\": \"number\",\n        \"std\": 0.22335295546584477,\n        \"min\": 0.0,\n        \"max\": 1.0,\n        \"num_unique_values\": 20,\n        \"samples\": [\n          0.9924385633270324,\n          0.9300567107750471,\n          0.6200378071833649\n        ],\n        \"semantic_type\": \"\",\n        \"description\": \"\"\n      }\n    },\n    {\n      \"column\": \"disk_io_read_bytes\",\n      \"properties\": {\n        \"dtype\": \"number\",\n        \"std\": 0.24209952212209712,\n        \"min\": 0.0,\n        \"max\": 1.0,\n        \"num_unique_values\": 20,\n        \"samples\": [\n          0.014589530816840526,\n          0.16881750411358948,\n          0.002180494334055233\n        ],\n        \"semantic_type\": \"\",\n        \"description\": \"\"\n      }\n    },\n    {\n      \"column\": \"disk_io_write_bytes\",\n      \"properties\": {\n        \"dtype\": \"number\",\n        \"std\": 0.28401917928318327,\n        \"min\": 0.0,\n        \"max\": 1.0,\n        \"num_unique_values\": 20,\n        \"samples\": [\n          0.038297911320377555,\n          0.24986692204500993,\n          0.016301283734846052\n        ],\n        \"semantic_type\": \"\",\n        \"description\": \"\"\n      }\n    },\n    {\n      \"column\": \"net_io_bytes_sent\",\n      \"properties\": {\n        \"dtype\": \"number\",\n        \"std\": 0.22527511279767734,\n        \"min\": 0.0,\n        \"max\": 1.0000000000000002,\n        \"num_unique_values\": 20,\n        \"samples\": [\n          0.0386623442141228,\n          0.2521825437905265,\n          0.05248507914392831\n        ],\n        \"semantic_type\": \"\",\n        \"description\": \"\"\n      }\n    },\n    {\n      \"column\": \"net_io_bytes_recv\",\n      \"properties\": {\n        \"dtype\": \"number\",\n        \"std\": 0.21155276566836118,\n        \"min\": 0.0,\n        \"max\": 1.0,\n        \"num_unique_values\": 20,\n        \"samples\": [\n          0.0668009466149205,\n          0.03209101725795593,\n          0.0432456474906112\n        ],\n        \"semantic_type\": \"\",\n        \"description\": \"\"\n      }\n    },\n    {\n      \"column\": \"graphics_ram_size\",\n      \"properties\": {\n        \"dtype\": \"number\",\n        \"std\": 0.26727232362556835,\n        \"min\": 0.0,\n        \"max\": 1.0,\n        \"num_unique_values\": 4,\n        \"samples\": [\n          0.0,\n          0.8521830240885417,\n          0.3333333333333333\n        ],\n        \"semantic_type\": \"\",\n        \"description\": \"\"\n      }\n    },\n    {\n      \"column\": \"completion_time\",\n      \"properties\": {\n        \"dtype\": \"number\",\n        \"std\": 0.8259093384148835,\n        \"min\": 1.1422808170318604,\n        \"max\": 4.5606303215026855,\n        \"num_unique_values\": 20,\n        \"samples\": [\n          1.2621588706970217,\n          1.297942876815796,\n          1.1544482707977295\n        ],\n        \"semantic_type\": \"\",\n        \"description\": \"\"\n      }\n    }\n  ]\n}"
            }
          },
          "metadata": {},
          "execution_count": 116
        }
      ]
    },
    {
      "cell_type": "code",
      "source": [
        "# Train-test split for model evaluation\n",
        "X_train, X_test, y_train, y_test = train_test_split(X, y, test_size=0.2, random_state=42)"
      ],
      "metadata": {
        "id": "pz5YKWY6rRGR"
      },
      "execution_count": 117,
      "outputs": []
    },
    {
      "cell_type": "code",
      "source": [
        "# Create the linear regression model\n",
        "model = LinearRegression()\n",
        "\n"
      ],
      "metadata": {
        "id": "yq8jaZt94WCy"
      },
      "execution_count": 118,
      "outputs": []
    },
    {
      "cell_type": "code",
      "source": [
        "# Fit the model to the training data\n",
        "model.fit(X_train, y_train)\n",
        "\n"
      ],
      "metadata": {
        "colab": {
          "base_uri": "https://localhost:8080/",
          "height": 75
        },
        "id": "NLYeG9Zd4aLb",
        "outputId": "af01cc52-ce80-4d93-8710-39b3609e3793"
      },
      "execution_count": 119,
      "outputs": [
        {
          "output_type": "execute_result",
          "data": {
            "text/plain": [
              "LinearRegression()"
            ],
            "text/html": [
              "<style>#sk-container-id-6 {color: black;background-color: white;}#sk-container-id-6 pre{padding: 0;}#sk-container-id-6 div.sk-toggleable {background-color: white;}#sk-container-id-6 label.sk-toggleable__label {cursor: pointer;display: block;width: 100%;margin-bottom: 0;padding: 0.3em;box-sizing: border-box;text-align: center;}#sk-container-id-6 label.sk-toggleable__label-arrow:before {content: \"▸\";float: left;margin-right: 0.25em;color: #696969;}#sk-container-id-6 label.sk-toggleable__label-arrow:hover:before {color: black;}#sk-container-id-6 div.sk-estimator:hover label.sk-toggleable__label-arrow:before {color: black;}#sk-container-id-6 div.sk-toggleable__content {max-height: 0;max-width: 0;overflow: hidden;text-align: left;background-color: #f0f8ff;}#sk-container-id-6 div.sk-toggleable__content pre {margin: 0.2em;color: black;border-radius: 0.25em;background-color: #f0f8ff;}#sk-container-id-6 input.sk-toggleable__control:checked~div.sk-toggleable__content {max-height: 200px;max-width: 100%;overflow: auto;}#sk-container-id-6 input.sk-toggleable__control:checked~label.sk-toggleable__label-arrow:before {content: \"▾\";}#sk-container-id-6 div.sk-estimator input.sk-toggleable__control:checked~label.sk-toggleable__label {background-color: #d4ebff;}#sk-container-id-6 div.sk-label input.sk-toggleable__control:checked~label.sk-toggleable__label {background-color: #d4ebff;}#sk-container-id-6 input.sk-hidden--visually {border: 0;clip: rect(1px 1px 1px 1px);clip: rect(1px, 1px, 1px, 1px);height: 1px;margin: -1px;overflow: hidden;padding: 0;position: absolute;width: 1px;}#sk-container-id-6 div.sk-estimator {font-family: monospace;background-color: #f0f8ff;border: 1px dotted black;border-radius: 0.25em;box-sizing: border-box;margin-bottom: 0.5em;}#sk-container-id-6 div.sk-estimator:hover {background-color: #d4ebff;}#sk-container-id-6 div.sk-parallel-item::after {content: \"\";width: 100%;border-bottom: 1px solid gray;flex-grow: 1;}#sk-container-id-6 div.sk-label:hover label.sk-toggleable__label {background-color: #d4ebff;}#sk-container-id-6 div.sk-serial::before {content: \"\";position: absolute;border-left: 1px solid gray;box-sizing: border-box;top: 0;bottom: 0;left: 50%;z-index: 0;}#sk-container-id-6 div.sk-serial {display: flex;flex-direction: column;align-items: center;background-color: white;padding-right: 0.2em;padding-left: 0.2em;position: relative;}#sk-container-id-6 div.sk-item {position: relative;z-index: 1;}#sk-container-id-6 div.sk-parallel {display: flex;align-items: stretch;justify-content: center;background-color: white;position: relative;}#sk-container-id-6 div.sk-item::before, #sk-container-id-6 div.sk-parallel-item::before {content: \"\";position: absolute;border-left: 1px solid gray;box-sizing: border-box;top: 0;bottom: 0;left: 50%;z-index: -1;}#sk-container-id-6 div.sk-parallel-item {display: flex;flex-direction: column;z-index: 1;position: relative;background-color: white;}#sk-container-id-6 div.sk-parallel-item:first-child::after {align-self: flex-end;width: 50%;}#sk-container-id-6 div.sk-parallel-item:last-child::after {align-self: flex-start;width: 50%;}#sk-container-id-6 div.sk-parallel-item:only-child::after {width: 0;}#sk-container-id-6 div.sk-dashed-wrapped {border: 1px dashed gray;margin: 0 0.4em 0.5em 0.4em;box-sizing: border-box;padding-bottom: 0.4em;background-color: white;}#sk-container-id-6 div.sk-label label {font-family: monospace;font-weight: bold;display: inline-block;line-height: 1.2em;}#sk-container-id-6 div.sk-label-container {text-align: center;}#sk-container-id-6 div.sk-container {/* jupyter's `normalize.less` sets `[hidden] { display: none; }` but bootstrap.min.css set `[hidden] { display: none !important; }` so we also need the `!important` here to be able to override the default hidden behavior on the sphinx rendered scikit-learn.org. See: https://github.com/scikit-learn/scikit-learn/issues/21755 */display: inline-block !important;position: relative;}#sk-container-id-6 div.sk-text-repr-fallback {display: none;}</style><div id=\"sk-container-id-6\" class=\"sk-top-container\"><div class=\"sk-text-repr-fallback\"><pre>LinearRegression()</pre><b>In a Jupyter environment, please rerun this cell to show the HTML representation or trust the notebook. <br />On GitHub, the HTML representation is unable to render, please try loading this page with nbviewer.org.</b></div><div class=\"sk-container\" hidden><div class=\"sk-item\"><div class=\"sk-estimator sk-toggleable\"><input class=\"sk-toggleable__control sk-hidden--visually\" id=\"sk-estimator-id-6\" type=\"checkbox\" checked><label for=\"sk-estimator-id-6\" class=\"sk-toggleable__label sk-toggleable__label-arrow\">LinearRegression</label><div class=\"sk-toggleable__content\"><pre>LinearRegression()</pre></div></div></div></div></div>"
            ]
          },
          "metadata": {},
          "execution_count": 119
        }
      ]
    },
    {
      "cell_type": "code",
      "source": [
        "# Make predictions on the test data\n",
        "y_predicted = model.predict(X_test)\n",
        "\n",
        "# Evaluate the model performance using R-squared\n",
        "r2 = r2_score(y_test, y_predicted)\n",
        "print(\"R-squared:\", r2)\n",
        "\n",
        "# Print the coefficients of the model\n",
        "print(\"Coefficients:\", model.coef_)\n",
        "\n",
        "# Print the intercept of the model\n",
        "print(\"Intercept:\", model.intercept_)"
      ],
      "metadata": {
        "colab": {
          "base_uri": "https://localhost:8080/"
        },
        "id": "yifQoZKq4fFw",
        "outputId": "cbe70920-070a-453c-d925-fc2c4b13d294"
      },
      "execution_count": 124,
      "outputs": [
        {
          "output_type": "stream",
          "name": "stdout",
          "text": [
            "R-squared: -60.74417983795492\n",
            "Coefficients: [-2.13614608  1.84370232  5.22062382 -3.47105452 -1.13076328  3.62597393\n",
            "  1.7298025 ]\n",
            "Intercept: -0.07759363222339921\n"
          ]
        }
      ]
    },
    {
      "cell_type": "code",
      "source": [
        "model.coef_.dtype\n",
        "#Remove the completion time coefficent from the Array\n",
        "#coefficients = np.delete(coefficients, -1)\n",
        "model.coef_"
      ],
      "metadata": {
        "colab": {
          "base_uri": "https://localhost:8080/"
        },
        "id": "7iqwlyVGqoS5",
        "outputId": "855a463c-764f-456b-f5d0-a38316ef2365"
      },
      "execution_count": 125,
      "outputs": [
        {
          "output_type": "execute_result",
          "data": {
            "text/plain": [
              "array([-2.13614608,  1.84370232,  5.22062382, -3.47105452, -1.13076328,\n",
              "        3.62597393,  1.7298025 ])"
            ]
          },
          "metadata": {},
          "execution_count": 125
        }
      ]
    },
    {
      "cell_type": "code",
      "source": [
        "# Feature Importance\n",
        "\n",
        "coefficients = model.coef_\n",
        "feature_names = list(data.columns)[:-1]  # Exclude the dependent variable column\n",
        "\n",
        "#Sort coefficients by their absolute values in descending order\n",
        "sorted_importance = sorted(zip(feature_names, coefficients), key=lambda x: abs(x[1]), reverse=True)\n",
        "\n",
        "# Print the importance of each feature\n",
        "for name, importance in sorted_importance:\n",
        "    print(f\"Feature: {name}, Importance: {importance:.2f}\")  # Format importance to 2 decimal places\n"
      ],
      "metadata": {
        "id": "PRegi7I486N3"
      },
      "execution_count": null,
      "outputs": []
    },
    {
      "cell_type": "code",
      "source": [
        "feature_names"
      ],
      "metadata": {
        "colab": {
          "base_uri": "https://localhost:8080/"
        },
        "id": "h1VTwCCJ7y8_",
        "outputId": "bd44e6ef-7c2f-47f2-d3ef-24837805bd79"
      },
      "execution_count": 136,
      "outputs": [
        {
          "output_type": "execute_result",
          "data": {
            "text/plain": [
              "['cpu_percent',\n",
              " 'memory_percent',\n",
              " 'disk_io_read_bytes',\n",
              " 'disk_io_write_bytes',\n",
              " 'net_io_bytes_sent',\n",
              " 'net_io_bytes_recv',\n",
              " 'graphics_ram_size']"
            ]
          },
          "metadata": {},
          "execution_count": 136
        }
      ]
    },
    {
      "cell_type": "code",
      "source": [
        "sns.heatmap(coefficients.reshape(1,-1),xticklabels=feature_names,cmap='viridis',vmin=-1,vmax=1,annot=True)"
      ],
      "metadata": {
        "colab": {
          "base_uri": "https://localhost:8080/",
          "height": 573
        },
        "id": "k3rAP-l96OLR",
        "outputId": "5d5f7361-acdf-45e0-ef92-1c983419d574"
      },
      "execution_count": 135,
      "outputs": [
        {
          "output_type": "execute_result",
          "data": {
            "text/plain": [
              "<Axes: >"
            ]
          },
          "metadata": {},
          "execution_count": 135
        },
        {
          "output_type": "display_data",
          "data": {
            "text/plain": [
              "<Figure size 640x480 with 2 Axes>"
            ],
            "image/png": "[encoded data removed]"
          },
          "metadata": {}
        }
      ]
    },
    {
      "cell_type": "code",
      "source": [
        "\n",
        "\n",
        "# Assuming you have a trained model and features\n",
        "\n",
        "importance_matrix = permutation_importance(model, X_test, y_test, n_repeats=10)  # Adjust n_repeats if needed\n",
        "\n",
        "# Create a heatmap (adjust based on your feature names)\n",
        "feature_cols = list(data.columns)[:-1]  # Exclude dependent variable column\n",
        "sns.heatmap(importance_matrix.importances_mean.reshape(1, -1), xticklabels=feature_cols, cmap=\"viridis\",vmax=1,vmin=-1,annot=True)\n",
        "\n",
        "plt.xlabel(\"Features\")\n",
        "plt.ylabel(\"Importance Score\")\n",
        "plt.title(\"Feature Importance Heatmap\")\n",
        "plt.show()\n"
      ],
      "metadata": {
        "colab": {
          "base_uri": "https://localhost:8080/",
          "height": 592
        },
        "id": "gFpHJtsE_z2e",
        "outputId": "fe54c16f-17b3-4376-a97f-ded0a5f023a4"
      },
      "execution_count": 130,
      "outputs": [
        {
          "output_type": "display_data",
          "data": {
            "text/plain": [
              "<Figure size 640x480 with 2 Axes>"
            ],
            "image/png": "[encoded data removed]"
          },
          "metadata": {}
        }
      ]
    },
    {
      "cell_type": "code",
      "source": [
        "# Data analysis\n",
        "print(data.info())\n",
        "print(data.describe())\n",
        "\n",
        "# Pairplot for visualization\n",
        "sns.pairplot(data, vars=['cpu_percent', 'memory_percent', 'graphics_ram_size', 'disk_io_read_bytes', 'disk_io_write_bytes', 'net_io_bytes_sent', 'net_io_bytes_recv', 'completion_time'])\n",
        "plt.show()\n"
      ],
      "metadata": {
        "id": "GySkm_0nhhTd"
      },
      "execution_count": null,
      "outputs": []
    }
  ]
}